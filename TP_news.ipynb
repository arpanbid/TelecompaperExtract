{
 "cells": [
  {
   "cell_type": "code",
   "execution_count": 1,
   "id": "05cfdd6a",
   "metadata": {},
   "outputs": [],
   "source": [
    "from selenium import webdriver\n",
    "from time import sleep\n",
    "from selenium.webdriver.common.by import By\n",
    "from selenium.webdriver.common.keys import Keys\n",
    "import pandas as pd\n"
   ]
  },
  {
   "cell_type": "code",
   "execution_count": 2,
   "id": "03e2893e",
   "metadata": {},
   "outputs": [],
   "source": [
    "browser = webdriver.Edge()"
   ]
  },
  {
   "cell_type": "code",
   "execution_count": 10,
   "id": "ab3aad56",
   "metadata": {},
   "outputs": [],
   "source": [
    "browser.switch_to.window(browser.window_handles[-1])"
   ]
  },
  {
   "cell_type": "code",
   "execution_count": 11,
   "id": "74031b0e",
   "metadata": {},
   "outputs": [],
   "source": [
    "def go_to_search_page(browser):\n",
    "    link = \"https://www.telecompaper.com/search\"\n",
    "    browser.get(link)\n",
    "    sleep(5)"
   ]
  },
  {
   "cell_type": "code",
   "execution_count": 12,
   "id": "ca805e37",
   "metadata": {},
   "outputs": [],
   "source": [
    "def collect_news_links(browser):\n",
    "    hrefs=[]\n",
    "    elements_news_link = browser.find_elements(By.XPATH, '//div[@class=\"column is-12\"]/a')\n",
    "\n",
    "    for element in elements_news_link:\n",
    "        hrefs.append(element.get_attribute(\"href\"))\n",
    "    \n",
    "    print(\"Total search items: \" + str(len(hrefs)))    \n",
    "    return hrefs"
   ]
  },
  {
   "cell_type": "code",
   "execution_count": 13,
   "id": "017323fd",
   "metadata": {},
   "outputs": [],
   "source": [
    "def collect_headlines(browser):\n",
    "    headline=[]\n",
    "    elements_news_text = browser.find_elements(By.XPATH, \"//div[@class='column is-12']/a/div/div/h2\")\n",
    "    \n",
    "    for element in elements_news_text:\n",
    "        headline.append(element.text)\n",
    "        \n",
    "    return headline"
   ]
  },
  {
   "cell_type": "code",
   "execution_count": 14,
   "id": "95fcb40b",
   "metadata": {},
   "outputs": [],
   "source": [
    "def extract_news(hrefs,n):\n",
    "    news = []\n",
    "    news_date = []\n",
    "    news_country = []\n",
    "    news_headline = []\n",
    "    \n",
    "    for href in hrefs[:int(n)]:\n",
    "        browser.get(href)\n",
    "        sleep(3)\n",
    "\n",
    "        news_paragraph = browser.find_element(By.XPATH, '//p[@class=\"is-abstract\"]')\n",
    "        news.append(news_paragraph.text)\n",
    "\n",
    "        country = browser.find_element(By.XPATH, '//div[@class=\"is-meta mb-2\"]/span[1]')\n",
    "        news_country.append(country.text)\n",
    "\n",
    "        date = browser.find_element(By.XPATH, '//div[@class=\"is-meta mb-2\"]/span[2]')\n",
    "        news_date.append(date.text)\n",
    "        \n",
    "        headline = browser.find_element(By.XPATH, '//h2[@class=\"is-title mb-2\"]')\n",
    "        news_headline.append(headline.text)\n",
    "    \n",
    "    \n",
    "    data = {'Region': news_country, 'Date': news_date, 'Headline':news_headline , 'News': news, 'Link':hrefs[0:len(news)]}\n",
    "    df = pd.DataFrame(data)\n",
    "    return df"
   ]
  },
  {
   "cell_type": "code",
   "execution_count": 9,
   "id": "c52913ac",
   "metadata": {},
   "outputs": [],
   "source": [
    "headers = ['Region' , 'Date', 'Headline', 'News', 'Link']\n",
    "result_data = pd.DataFrame(columns=headers)"
   ]
  },
  {
   "cell_type": "code",
   "execution_count": 15,
   "id": "83cda2a7",
   "metadata": {},
   "outputs": [
    {
     "name": "stdout",
     "output_type": "stream",
     "text": [
      "Search and add filters.\n",
      "Type \"Y\" to continue, \"E\" to exit: y\n",
      "Total search items: 25\n",
      "Out of 25, how many news you want to extract: 2\n",
      "Type \"Y\" to continue, \"E\" to exit: y\n",
      "Total search items: 9\n",
      "Out of 9, how many news you want to extract: 1\n",
      "Type \"Y\" to continue, \"E\" to exit: e\n"
     ]
    }
   ],
   "source": [
    "print(\"Search and add filters.\")\n",
    "y=\"A\"\n",
    "\n",
    "while 1:\n",
    "    go_to_search_page(browser)\n",
    "    y = input('Type \"Y\" to continue, \"E\" to exit: ')\n",
    "    if y==\"Y\" or y==\"y\":\n",
    "        #headlines = collect_headlines(browser)\n",
    "        news_links = collect_news_links(browser)\n",
    "        n = input(\"Out of \" + str(len(news_links)) + \", how many news you want to extract: \")\n",
    "        \n",
    "        scrapped_data = extract_news(news_links,n)\n",
    "        result_data = pd.concat([result_data, scrapped_data], ignore_index=True)\n",
    "        \n",
    "        \n",
    "    elif y==\"E\" or y==\"e\":\n",
    "        browser.quit()\n",
    "        break\n",
    "\n",
    "\n",
    "    \n"
   ]
  },
  {
   "cell_type": "code",
   "execution_count": 17,
   "id": "4cfa79aa",
   "metadata": {
    "scrolled": true
   },
   "outputs": [
    {
     "data": {
      "text/html": [
       "<div>\n",
       "<style scoped>\n",
       "    .dataframe tbody tr th:only-of-type {\n",
       "        vertical-align: middle;\n",
       "    }\n",
       "\n",
       "    .dataframe tbody tr th {\n",
       "        vertical-align: top;\n",
       "    }\n",
       "\n",
       "    .dataframe thead th {\n",
       "        text-align: right;\n",
       "    }\n",
       "</style>\n",
       "<table border=\"1\" class=\"dataframe\">\n",
       "  <thead>\n",
       "    <tr style=\"text-align: right;\">\n",
       "      <th></th>\n",
       "      <th>Region</th>\n",
       "      <th>Date</th>\n",
       "      <th>Headline</th>\n",
       "      <th>News</th>\n",
       "      <th>Link</th>\n",
       "    </tr>\n",
       "  </thead>\n",
       "  <tbody>\n",
       "    <tr>\n",
       "      <th>0</th>\n",
       "      <td>GLOBAL</td>\n",
       "      <td>2 FEB</td>\n",
       "      <td>Global enterprise cloud infrastructure service...</td>\n",
       "      <td>Global enterprise spending on cloud infrastruc...</td>\n",
       "      <td>https://www.telecompaper.com/news/global-enter...</td>\n",
       "    </tr>\n",
       "    <tr>\n",
       "      <th>1</th>\n",
       "      <td>MIDDLE EAST</td>\n",
       "      <td>31 JAN</td>\n",
       "      <td>Evision to show Disney Star output in Middle East</td>\n",
       "      <td>Evision, the media and entertainment division ...</td>\n",
       "      <td>https://www.telecompaper.com/news/evision-to-s...</td>\n",
       "    </tr>\n",
       "    <tr>\n",
       "      <th>2</th>\n",
       "      <td>POLAND</td>\n",
       "      <td>26 OCT 2023</td>\n",
       "      <td>Polsat Plus Group, Google Cloud start strategi...</td>\n",
       "      <td>Poland's Polsat Plus Group has launched a stra...</td>\n",
       "      <td>https://www.telecompaper.com/news/polsat-plus-...</td>\n",
       "    </tr>\n",
       "  </tbody>\n",
       "</table>\n",
       "</div>"
      ],
      "text/plain": [
       "        Region         Date  \\\n",
       "0       GLOBAL        2 FEB   \n",
       "1  MIDDLE EAST       31 JAN   \n",
       "2       POLAND  26 OCT 2023   \n",
       "\n",
       "                                            Headline  \\\n",
       "0  Global enterprise cloud infrastructure service...   \n",
       "1  Evision to show Disney Star output in Middle East   \n",
       "2  Polsat Plus Group, Google Cloud start strategi...   \n",
       "\n",
       "                                                News  \\\n",
       "0  Global enterprise spending on cloud infrastruc...   \n",
       "1  Evision, the media and entertainment division ...   \n",
       "2  Poland's Polsat Plus Group has launched a stra...   \n",
       "\n",
       "                                                Link  \n",
       "0  https://www.telecompaper.com/news/global-enter...  \n",
       "1  https://www.telecompaper.com/news/evision-to-s...  \n",
       "2  https://www.telecompaper.com/news/polsat-plus-...  "
      ]
     },
     "execution_count": 17,
     "metadata": {},
     "output_type": "execute_result"
    }
   ],
   "source": [
    "result_data"
   ]
  },
  {
   "cell_type": "code",
   "execution_count": 19,
   "id": "fbc84426",
   "metadata": {},
   "outputs": [],
   "source": [
    "result_data.to_excel(\"data.xlsx\")"
   ]
  }
 ],
 "metadata": {
  "kernelspec": {
   "display_name": "Python 3 (ipykernel)",
   "language": "python",
   "name": "python3"
  },
  "language_info": {
   "codemirror_mode": {
    "name": "ipython",
    "version": 3
   },
   "file_extension": ".py",
   "mimetype": "text/x-python",
   "name": "python",
   "nbconvert_exporter": "python",
   "pygments_lexer": "ipython3",
   "version": "3.11.1"
  }
 },
 "nbformat": 4,
 "nbformat_minor": 5
}
