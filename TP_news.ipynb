{
 "cells": [
  {
   "cell_type": "code",
   "execution_count": 1,
   "id": "05cfdd6a",
   "metadata": {},
   "outputs": [],
   "source": [
    "from selenium import webdriver\n",
    "from time import sleep\n",
    "from selenium.webdriver.common.by import By\n",
    "from selenium.webdriver.common.keys import Keys\n",
    "import pandas as pd\n"
   ]
  },
  {
   "cell_type": "code",
   "execution_count": 2,
   "id": "03e2893e",
   "metadata": {},
   "outputs": [
    {
     "name": "stderr",
     "output_type": "stream",
     "text": [
      "/var/folders/5p/_jlphrrx7hzf7hq0z69f1_nc0000gn/T/ipykernel_11325/3983540099.py:2: DeprecationWarning: executable_path has been deprecated, please pass in a Service object\n",
      "  browser = webdriver.Chrome(\"webdriver/chromedriver\")\n"
     ]
    }
   ],
   "source": [
    "#browser = webdriver.Edge()\n",
    "browser = webdriver.Chrome(\"webdriver/chromedriver\")"
   ]
  },
  {
   "cell_type": "code",
   "execution_count": 6,
   "metadata": {},
   "outputs": [],
   "source": [
    "browser.quit()"
   ]
  },
  {
   "cell_type": "code",
   "execution_count": 10,
   "id": "ab3aad56",
   "metadata": {},
   "outputs": [],
   "source": [
    "#browser.switch_to.window(browser.window_handles[-1])"
   ]
  },
  {
   "cell_type": "code",
   "execution_count": 3,
   "id": "74031b0e",
   "metadata": {},
   "outputs": [],
   "source": [
    "def go_to_search_page(browser):\n",
    "    link = \"https://www.telecompaper.com/search\"\n",
    "    browser.get(link)\n",
    "    sleep(5)"
   ]
  },
  {
   "cell_type": "code",
   "execution_count": 4,
   "id": "ca805e37",
   "metadata": {},
   "outputs": [],
   "source": [
    "def collect_news_links(browser):\n",
    "    hrefs=[]\n",
    "    elements_news_link = browser.find_elements(By.XPATH, '//div[@class=\"column is-12\"]/a')\n",
    "\n",
    "    for element in elements_news_link:\n",
    "        hrefs.append(element.get_attribute(\"href\"))\n",
    "    \n",
    "    print(\"Total search items: \" + str(len(hrefs)))    \n",
    "    return hrefs"
   ]
  },
  {
   "cell_type": "code",
   "execution_count": 5,
   "id": "017323fd",
   "metadata": {},
   "outputs": [],
   "source": [
    "def collect_headlines(browser):\n",
    "    headline=[]\n",
    "    elements_news_text = browser.find_elements(By.XPATH, \"//div[@class='column is-12']/a/div/div/h2\")\n",
    "    \n",
    "    for element in elements_news_text:\n",
    "        headline.append(element.text)\n",
    "        \n",
    "    return headline"
   ]
  },
  {
   "cell_type": "code",
   "execution_count": 6,
   "id": "95fcb40b",
   "metadata": {},
   "outputs": [],
   "source": [
    "def extract_news(hrefs,n):\n",
    "    news = []\n",
    "    news_date = []\n",
    "    news_country = []\n",
    "    news_headline = []\n",
    "    \n",
    "    for href in hrefs[:int(n)]:\n",
    "        browser.get(href)\n",
    "        sleep(3)\n",
    "\n",
    "        news_paragraph = browser.find_element(By.XPATH, '//p[@class=\"is-abstract\"]')\n",
    "        news.append(news_paragraph.text)\n",
    "\n",
    "        country = browser.find_element(By.XPATH, '//div[@class=\"is-meta mb-2\"]/span[1]')\n",
    "        news_country.append(country.text)\n",
    "\n",
    "        date = browser.find_element(By.XPATH, '//div[@class=\"is-meta mb-2\"]/span[2]')\n",
    "        news_date.append(date.text)\n",
    "        \n",
    "        headline = browser.find_element(By.XPATH, '//h2[@class=\"is-title mb-2\"]')\n",
    "        news_headline.append(headline.text)\n",
    "    \n",
    "    \n",
    "    data = {'Region': news_country, 'Date': news_date, 'Headline':news_headline , 'News': news, 'Link':hrefs[0:len(news)]}\n",
    "    df = pd.DataFrame(data)\n",
    "    return df"
   ]
  },
  {
   "cell_type": "code",
   "execution_count": 7,
   "id": "c52913ac",
   "metadata": {},
   "outputs": [],
   "source": [
    "headers = ['Region' , 'Date', 'Headline', 'News', 'Link']\n",
    "result_data = pd.DataFrame(columns=headers)"
   ]
  },
  {
   "cell_type": "code",
   "execution_count": 9,
   "id": "83cda2a7",
   "metadata": {},
   "outputs": [
    {
     "name": "stdout",
     "output_type": "stream",
     "text": [
      "Search and add filters.\n",
      "Total search items: 6\n",
      "Total search items: 3\n",
      "Total search items: 5\n",
      "Total search items: 1\n",
      "Total search items: 1\n",
      "Total search items: 4\n",
      "Total search items: 10\n"
     ]
    }
   ],
   "source": [
    "print(\"Search and add filters.\")\n",
    "y=\"A\"\n",
    "\n",
    "while 1:\n",
    "    go_to_search_page(browser)\n",
    "    y = input('Type \"Y\" to continue, \"E\" to exit: ')\n",
    "    if y==\"Y\" or y==\"y\":\n",
    "        #headlines = collect_headlines(browser)\n",
    "        news_links = collect_news_links(browser)\n",
    "        n = input(\"Out of \" + str(len(news_links)) + \", how many news you want to extract: \")\n",
    "        \n",
    "        scrapped_data = extract_news(news_links,n)\n",
    "        result_data = pd.concat([result_data, scrapped_data], ignore_index=True)\n",
    "        \n",
    "        \n",
    "    elif y==\"E\" or y==\"e\":\n",
    "        browser.quit()\n",
    "        break\n",
    "\n",
    "\n",
    "    \n"
   ]
  },
  {
   "cell_type": "code",
   "execution_count": 14,
   "id": "4cfa79aa",
   "metadata": {
    "scrolled": true
   },
   "outputs": [
    {
     "name": "stdout",
     "output_type": "stream",
     "text": [
      "total no of news collected: 30\n"
     ]
    }
   ],
   "source": [
    "print(\"total no of news collected: \" + str(len(result_data)))"
   ]
  },
  {
   "cell_type": "code",
   "execution_count": 11,
   "id": "fbc84426",
   "metadata": {},
   "outputs": [],
   "source": [
    "result_data.to_excel(\"data.xlsx\")"
   ]
  }
 ],
 "metadata": {
  "kernelspec": {
   "display_name": "Python 3 (ipykernel)",
   "language": "python",
   "name": "python3"
  },
  "language_info": {
   "codemirror_mode": {
    "name": "ipython",
    "version": 3
   },
   "file_extension": ".py",
   "mimetype": "text/x-python",
   "name": "python",
   "nbconvert_exporter": "python",
   "pygments_lexer": "ipython3",
   "version": "3.10.5"
  }
 },
 "nbformat": 4,
 "nbformat_minor": 5
}
